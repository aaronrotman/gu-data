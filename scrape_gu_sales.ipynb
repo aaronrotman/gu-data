{
 "cells": [
  {
   "cell_type": "code",
   "execution_count": 1,
   "metadata": {},
   "outputs": [],
   "source": [
    "# Dependencies\n",
    "\n",
    "import pandas as pd\n",
    "from splinter import Browser\n",
    "from bs4 import BeautifulSoup"
   ]
  },
  {
   "cell_type": "code",
   "execution_count": 2,
   "metadata": {
    "scrolled": true
   },
   "outputs": [],
   "source": [
    "# Path to the 'web_scraper' Firefox browser profile with Metamask extension for web3 support.\n",
    "# The Gods Unchained website does not show the percent of sales remaining without web3 support (it will show 100% remaining).\n",
    "profile_path = 'C:/Users/aaron/AppData/Roaming/Mozilla/Firefox/Profiles/9orqivy8.web_scraper'\n",
    "\n",
    "# Instantiate firefox browser using the the 'web_scraper' profile for web3 support.\n",
    "browser = Browser('firefox', profile=profile_path)"
   ]
  },
  {
   "cell_type": "code",
   "execution_count": 3,
   "metadata": {},
   "outputs": [],
   "source": [
    "# URL for the Gods Unchained Trial of the Gods season page.\n",
    "# Navigate to the Gods Unchained Trial of the Gods Season Page.\n",
    "browser.visit('https://www.godsunchained.com/trial')"
   ]
  },
  {
   "cell_type": "code",
   "execution_count": 4,
   "metadata": {},
   "outputs": [],
   "source": [
    "# Store the browser html.\n",
    "html = browser.html"
   ]
  },
  {
   "cell_type": "code",
   "execution_count": 5,
   "metadata": {},
   "outputs": [],
   "source": [
    "# Close the browser.\n",
    "browser.quit()"
   ]
  },
  {
   "cell_type": "code",
   "execution_count": 6,
   "metadata": {},
   "outputs": [],
   "source": [
    "# Instantiate Beautiful Soup.\n",
    "soup = BeautifulSoup(html)"
   ]
  },
  {
   "cell_type": "code",
   "execution_count": 7,
   "metadata": {},
   "outputs": [],
   "source": [
    "# Parse the html.\n",
    "sales_progress = soup.find('gu-hex-progress-bar')\n",
    "attributes = sales_progress.attrs\n",
    "bar_width = attributes[\"style\"]"
   ]
  },
  {
   "cell_type": "code",
   "execution_count": 8,
   "metadata": {},
   "outputs": [],
   "source": [
    "# Strip unwanted text\n",
    "first_strip = bar_width.strip(\"--barWdidth:\")\n",
    "second_strip = first_strip.strip(\"%;\")"
   ]
  },
  {
   "cell_type": "code",
   "execution_count": 9,
   "metadata": {},
   "outputs": [
    {
     "name": "stdout",
     "output_type": "stream",
     "text": [
      "Value: 79.8143175 | Type: <class 'float'>\n"
     ]
    }
   ],
   "source": [
    "# Cast the stripped value as a float.\n",
    "percent_remaining = float(second_strip)\n",
    "print(f'Value: {percent_remaining} | Type: {type(percent_remaining)}')"
   ]
  },
  {
   "cell_type": "code",
   "execution_count": 10,
   "metadata": {},
   "outputs": [],
   "source": [
    "# Calculate the percent sold from the percent remaining value.\n",
    "percent_sold = (100 - float(percent_remaining))"
   ]
  },
  {
   "cell_type": "code",
   "execution_count": 11,
   "metadata": {},
   "outputs": [],
   "source": [
    "# The Trial of the Gods season sales cap in US dollars. Sales cap is $4,000,000 USD.\n",
    "sales_cap = 4 * 1000 * 1000\n",
    "\n",
    "# Calculate the amount of sales remaining in US dollars.\n",
    "usd_remaining = (percent_remaining * sales_cap) / 100"
   ]
  },
  {
   "cell_type": "code",
   "execution_count": 12,
   "metadata": {},
   "outputs": [],
   "source": [
    "# Calculate the amount of sales complete in US dollars.\n",
    "usd_sold = (percent_sold * sales_cap) / 100"
   ]
  },
  {
   "cell_type": "code",
   "execution_count": 18,
   "metadata": {},
   "outputs": [],
   "source": [
    "# Report the data in US dollars\n",
    "report_usd = f'Trial of the Gods has sold ${usd_sold} of the ${sales_cap} sales cap. ${usd_remaining} of the sales cap remains to be sold.'\n",
    "# Report the data as a percent\n",
    "report_percent = f'Trial of the Gods has sold {percent_sold}% of the ${sales_cap} sales cap. {percent_remaining}% of the sales cap remains to be sold.' "
   ]
  },
  {
   "cell_type": "code",
   "execution_count": 19,
   "metadata": {},
   "outputs": [
    {
     "name": "stdout",
     "output_type": "stream",
     "text": [
      "Trial of the Gods has sold $807427.3 of the $4000000 sales cap. $3192572.7 of the sales cap remains to be sold.\n",
      "Trial of the Gods has sold 20.1856825% of the $4000000 sales cap. 79.8143175% of the sales cap remains to be sold.\n"
     ]
    }
   ],
   "source": [
    "# Print the final data\n",
    "print(report_usd)\n",
    "print(report_percent)"
   ]
  },
  {
   "cell_type": "code",
   "execution_count": null,
   "metadata": {},
   "outputs": [],
   "source": []
  }
 ],
 "metadata": {
  "kernelspec": {
   "display_name": "gu-data",
   "language": "python",
   "name": "gu-data"
  },
  "language_info": {
   "codemirror_mode": {
    "name": "ipython",
    "version": 3
   },
   "file_extension": ".py",
   "mimetype": "text/x-python",
   "name": "python",
   "nbconvert_exporter": "python",
   "pygments_lexer": "ipython3",
   "version": "3.8.5"
  }
 },
 "nbformat": 4,
 "nbformat_minor": 4
}
